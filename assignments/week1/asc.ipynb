{
 "cells": [
  {
   "metadata": {
    "ExecuteTime": {
     "end_time": "2025-04-13T14:27:43.481860Z",
     "start_time": "2025-04-13T14:27:43.475136Z"
    }
   },
   "cell_type": "code",
   "source": [
    "import random\n",
    "\n",
    "chars = ['@', '#', '$', '%', '*', '+', '-', '=', '.']\n",
    "\n",
    "width = 50\n",
    "height = 10\n",
    "row_start=2\n",
    "col_start=15\n",
    "\n",
    "logo = [\n",
    "    \"    ____         \",\n",
    "    \"   / __ \\\\__  __  \",\n",
    "    \"  / /_/ / / / /  \",\n",
    "    \" / ____/ /_/ /   \",\n",
    "    \" /_/    \\\\__, /   \",\n",
    "    \"       /____/    \",\n",
    "]\n",
    "\n",
    "print('\\n')\n",
    "for row in range(height):\n",
    "    line = ''\n",
    "    for col in range(width):\n",
    "        logo_row = row - row_start\n",
    "        if 0 <= logo_row < len(logo):\n",
    "            logo_line = logo[logo_row]\n",
    "            logo_col = col - col_start\n",
    "            if 0 <= logo_col < len(logo_line):\n",
    "                line += logo_line[logo_col]\n",
    "                continue\n",
    "        line += random.choice(chars)\n",
    "    print(line)\n"
   ],
   "id": "4f5155a82a2d0c93",
   "outputs": [
    {
     "name": "stdout",
     "output_type": "stream",
     "text": [
      "\n",
      "\n",
      "++%$=--.#=.@%%##@-*=@$==$.**##=#*-*$+%*+@%+-++$#=#\n",
      "+*+*-$-%+@@.%#%#%#=.@*$+.==@$$**#$-%#*#.@.#=%+-##-\n",
      "+#$+=+=#*%=+.-=    ____         #%=%@#-%++@#@#-#*%\n",
      "=#+%-.+.$#.$.@#   / __ \\__  __  *%$#+$+=+%.+%$$#*%\n",
      ".%+$-.@+#-.@$-@  / /_/ / / / /  --*@@*%@+*=-.@@@.+\n",
      "@@-.%@*%==$#+.$ / ____/ /_/ /   =--=+$@%*@.$#=#+=.\n",
      "*=.+=%*%-#-**@# /_/    \\__, /   @**@@$@%@=+.**@*$+\n",
      "$-%*%=*-#$-#+=$       /____/    $@=$%=#@$+@+#.+*=-\n",
      "=#=#=#%*%+.*@@=%%%%*%---%#%.+*-+.@=-.+.+.$-.=$@+=#\n",
      ".*-%++-=.#**+%$--@+%%$#=$-#$.#+.=.$$%%*+$#*$@=@@@%\n"
     ]
    }
   ],
   "execution_count": 1
  }
 ],
 "metadata": {
  "kernelspec": {
   "name": "python3",
   "language": "python",
   "display_name": "Python 3 (ipykernel)"
  }
 },
 "nbformat": 5,
 "nbformat_minor": 9
}
